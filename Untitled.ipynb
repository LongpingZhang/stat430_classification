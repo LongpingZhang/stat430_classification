{
 "cells": [
  {
   "cell_type": "code",
   "execution_count": 1,
   "id": "0c2c65d7",
   "metadata": {},
   "outputs": [],
   "source": [
    "from utils.annotation_util import annotation_df\n",
    "from utils.dataset import CustomImageDataset\n",
    "import torch\n",
    "from torch.utils.data import DataLoader\n",
    "import os\n",
    "import glob"
   ]
  },
  {
   "cell_type": "code",
   "execution_count": 2,
   "id": "2b074ca5",
   "metadata": {},
   "outputs": [],
   "source": [
    "base_dir = \"data/\"\n",
    "train_dir = os.path.join(base_dir, \"Training\")\n",
    "val_dir = os.path.join(base_dir, \"Validate\")\n",
    "test_dir = os.path.join(base_dir, \"Testing\")\n",
    "df_train, df_val, df_test = annotation_df(train_dir, val_dir, test_dir)"
   ]
  },
  {
   "cell_type": "code",
   "execution_count": 3,
   "id": "e8a9e9e8",
   "metadata": {},
   "outputs": [],
   "source": [
    "torch.manual_seed(17)\n",
    "import torchvision.transforms as transforms\n",
    "data_aug = transforms.Compose([transforms.Resize((224,224))])\n",
    "val_dataset = CustomImageDataset(df_val, transform = data_aug)\n",
    "val_dataloader = DataLoader(val_dataset, batch_size = 2)"
   ]
  },
  {
   "cell_type": "code",
   "execution_count": 4,
   "id": "d6ec7f4f",
   "metadata": {},
   "outputs": [
    {
     "data": {
      "text/plain": [
       "torch.Size([2, 1, 224, 224])"
      ]
     },
     "execution_count": 4,
     "metadata": {},
     "output_type": "execute_result"
    }
   ],
   "source": [
    "next(iter(val_dataloader))[0].shape"
   ]
  },
  {
   "cell_type": "code",
   "execution_count": null,
   "id": "e1e81051",
   "metadata": {},
   "outputs": [],
   "source": []
  }
 ],
 "metadata": {
  "kernelspec": {
   "display_name": "Python [conda env:opence-v1.6.1]",
   "language": "python",
   "name": "conda-env-opence-v1.6.1-py"
  },
  "language_info": {
   "codemirror_mode": {
    "name": "ipython",
    "version": 3
   },
   "file_extension": ".py",
   "mimetype": "text/x-python",
   "name": "python",
   "nbconvert_exporter": "python",
   "pygments_lexer": "ipython3",
   "version": "3.9.12"
  }
 },
 "nbformat": 4,
 "nbformat_minor": 5
}
